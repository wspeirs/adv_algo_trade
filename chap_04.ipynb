{
 "cells": [
  {
   "metadata": {},
   "cell_type": "markdown",
   "source": "# 4.5.2 Inferring a Binomial Proportion with PyMC3",
   "id": "bf4a4de0314c483b"
  },
  {
   "metadata": {
    "ExecuteTime": {
     "end_time": "2024-08-06T13:13:52.293485Z",
     "start_time": "2024-08-06T13:13:32.036450Z"
    }
   },
   "cell_type": "code",
   "source": "!conda install -y -q pymc",
   "id": "initial_id",
   "outputs": [
    {
     "name": "stdout",
     "output_type": "stream",
     "text": [
      "Channels:\r\n",
      " - defaults\r\n",
      "Platform: linux-64\r\n",
      "Collecting package metadata (repodata.json): ...working... done\r\n",
      "Solving environment: ...working... done\r\n",
      "\r\n",
      "## Package Plan ##\r\n",
      "\r\n",
      "  environment location: /home/wspeirs/miniconda3\r\n",
      "\r\n",
      "  added / updated specs:\r\n",
      "    - pymc\r\n",
      "\r\n",
      "\r\n",
      "The following packages will be downloaded:\r\n",
      "\r\n",
      "    package                    |            build\r\n",
      "    ---------------------------|-----------------\r\n",
      "    arviz-0.17.1               |  py312h06a4308_0         3.3 MB\r\n",
      "    cachetools-5.3.3           |  py312h06a4308_0          28 KB\r\n",
      "    cloudpickle-3.0.0          |  py312h06a4308_0          40 KB\r\n",
      "    cons-0.4.6                 |  py312h06a4308_0          18 KB\r\n",
      "    etuples-0.3.9              |  py312h06a4308_0          25 KB\r\n",
      "    filelock-3.13.1            |  py312h06a4308_0          24 KB\r\n",
      "    h5netcdf-1.2.0             |  py312h06a4308_0         102 KB\r\n",
      "    h5py-3.11.0                |  py312h34c39bb_0         1.4 MB\r\n",
      "    hdf5-1.12.1                |       h2b7332f_3         5.4 MB\r\n",
      "    logical-unification-0.4.6  |  py312h06a4308_0          28 KB\r\n",
      "    markdown-it-py-2.2.0       |  py312h06a4308_1         134 KB\r\n",
      "    mdurl-0.1.0                |  py312h06a4308_0          22 KB\r\n",
      "    minikanren-1.0.3           |  py312h06a4308_0          51 KB\r\n",
      "    multipledispatch-0.6.0     |  py312h06a4308_0          28 KB\r\n",
      "    pymc-5.16.1                |  py312ha39b09d_0         1.0 MB\r\n",
      "    pytensor-2.23.0            |  py312h526ad5a_0         2.8 MB\r\n",
      "    rich-13.7.1                |  py312h06a4308_0         610 KB\r\n",
      "    scipy-1.12.0               |  py312hc5e2394_0        23.3 MB\r\n",
      "    threadpoolctl-3.5.0        |  py312he106c6f_0          49 KB\r\n",
      "    toolz-0.12.0               |  py312h06a4308_0         130 KB\r\n",
      "    xarray-2023.6.0            |  py312h06a4308_0         2.0 MB\r\n",
      "    xarray-einstats-0.6.0      |  py312h06a4308_0          60 KB\r\n",
      "    ------------------------------------------------------------\r\n",
      "                                           Total:        40.6 MB\r\n",
      "\r\n",
      "The following NEW packages will be INSTALLED:\r\n",
      "\r\n",
      "  arviz              pkgs/main/linux-64::arviz-0.17.1-py312h06a4308_0 \r\n",
      "  cachetools         pkgs/main/linux-64::cachetools-5.3.3-py312h06a4308_0 \r\n",
      "  cloudpickle        pkgs/main/linux-64::cloudpickle-3.0.0-py312h06a4308_0 \r\n",
      "  cons               pkgs/main/linux-64::cons-0.4.6-py312h06a4308_0 \r\n",
      "  etuples            pkgs/main/linux-64::etuples-0.3.9-py312h06a4308_0 \r\n",
      "  filelock           pkgs/main/linux-64::filelock-3.13.1-py312h06a4308_0 \r\n",
      "  h5netcdf           pkgs/main/linux-64::h5netcdf-1.2.0-py312h06a4308_0 \r\n",
      "  h5py               pkgs/main/linux-64::h5py-3.11.0-py312h34c39bb_0 \r\n",
      "  hdf5               pkgs/main/linux-64::hdf5-1.12.1-h2b7332f_3 \r\n",
      "  logical-unificati~ pkgs/main/linux-64::logical-unification-0.4.6-py312h06a4308_0 \r\n",
      "  markdown-it-py     pkgs/main/linux-64::markdown-it-py-2.2.0-py312h06a4308_1 \r\n",
      "  mdurl              pkgs/main/linux-64::mdurl-0.1.0-py312h06a4308_0 \r\n",
      "  minikanren         pkgs/main/linux-64::minikanren-1.0.3-py312h06a4308_0 \r\n",
      "  multipledispatch   pkgs/main/linux-64::multipledispatch-0.6.0-py312h06a4308_0 \r\n",
      "  pymc               pkgs/main/linux-64::pymc-5.16.1-py312ha39b09d_0 \r\n",
      "  pytensor           pkgs/main/linux-64::pytensor-2.23.0-py312h526ad5a_0 \r\n",
      "  rich               pkgs/main/linux-64::rich-13.7.1-py312h06a4308_0 \r\n",
      "  threadpoolctl      pkgs/main/linux-64::threadpoolctl-3.5.0-py312he106c6f_0 \r\n",
      "  toolz              pkgs/main/linux-64::toolz-0.12.0-py312h06a4308_0 \r\n",
      "  xarray             pkgs/main/linux-64::xarray-2023.6.0-py312h06a4308_0 \r\n",
      "  xarray-einstats    pkgs/main/linux-64::xarray-einstats-0.6.0-py312h06a4308_0 \r\n",
      "\r\n",
      "The following packages will be DOWNGRADED:\r\n",
      "\r\n",
      "  scipy                              1.13.1-py312hc5e2394_0 --> 1.12.0-py312hc5e2394_0 \r\n",
      "\r\n",
      "\r\n",
      "Preparing transaction: ...working... done\r\n",
      "Verifying transaction: ...working... done\r\n",
      "Executing transaction: ...working... done\r\n"
     ]
    }
   ],
   "execution_count": 1
  },
  {
   "metadata": {
    "ExecuteTime": {
     "end_time": "2024-08-06T16:06:45.655332Z",
     "start_time": "2024-08-06T16:06:45.640145Z"
    }
   },
   "cell_type": "code",
   "source": [
    "import matplotlib.pyplot as plt\n",
    "import numpy as np\n",
    "import pymc\n",
    "import scipy.stats as stats\n",
    "\n",
    "plt.style.use(\"ggplot\")"
   ],
   "id": "ac7c3d3a59b33972",
   "outputs": [],
   "execution_count": 10
  },
  {
   "metadata": {
    "ExecuteTime": {
     "end_time": "2024-08-06T18:28:06.318216Z",
     "start_time": "2024-08-06T18:26:21.490552Z"
    }
   },
   "cell_type": "code",
   "source": [
    "# Parameter values for prior and analytic posterior\n",
    "n = 50\n",
    "z = 10\n",
    "alpha = 12\n",
    "beta = 12\n",
    "alpha_post = 22\n",
    "beta_post = 52\n",
    "\n",
    "# How many iterations of the Metropolis algorithm to carry out for MCMC\n",
    "iterations = 100_000\n",
    "\n",
    "# Use PyMC to construct a model context\n",
    "with pymc.Model() as mcmc:\n",
    "    # Define our prior belief about the fairness\n",
    "    # of the coin using a Beta distribution\n",
    "    theta = pymc.Beta(\"theta\", alpha=alpha, beta=beta)\n",
    "    \n",
    "    # Define the Bernoulli likelihood function\n",
    "    y = pymc.Binomial(\"y\", n=n, p=theta, observed=z)\n",
    "    \n",
    "    # Carry out the MCMC analysis using the Metropolis algorithm\n",
    "    # Use Maximum A Posteriori (MAP) optimisation as initial value for MCMC\n",
    "    start = pymc.find_MAP()\n",
    "    \n",
    "    # Use the Metropolis algorithm (as opposed to NUTS or HMC, etc.)\n",
    "    step = pymc.Metropolis()\n",
    "    \n",
    "    # Calculate the trace\n",
    "    trace = pymc.sample(draws=iterations, step=step, initvals=start, cores=2, chains=1, random_seed=1, progressbar=True, return_inferencedata=False)\n",
    "    \n",
    "    # Plot the posterior histogram from MCMC analysis\n",
    "    bins=50\n",
    "    plt.hist(trace.theta, bins, histtype=\"step\", density=True, label=\"Posterior (MCMC)\", color=\"red\")\n",
    "    \n",
    "    # Plot the analytic prior and posterior beta distributions\n",
    "    x = np.linspace(0, 1, 100)\n",
    "    plt.plot(x, stats.beta.pdf(x, alpha, beta), \"--\", label=\"Prior\", color=\"blue\")\n",
    "    \n",
    "    plt.plot(x, stats.beta.pdf(x, alpha_post, beta_post), label='Posterior (Analytic)', color=\"green\")\n",
    "    \n",
    "# Update the graph labels\n",
    "plt.legend(title=\"Parameters\", loc=\"best\")\n",
    "plt.xlabel(\"$\\\\theta$, Fairness\")\n",
    "plt.ylabel(\"Density\")\n",
    "plt.show()"
   ],
   "id": "6c0711c1f8a81abf",
   "outputs": [
    {
     "data": {
      "text/plain": [
       "Output()"
      ],
      "application/vnd.jupyter.widget-view+json": {
       "version_major": 2,
       "version_minor": 0,
       "model_id": "c73049d614b24e09a4f7bfe202268ca8"
      }
     },
     "metadata": {},
     "output_type": "display_data"
    },
    {
     "data": {
      "text/plain": [
       "\n"
      ],
      "text/html": [
       "<pre style=\"white-space:pre;overflow-x:auto;line-height:normal;font-family:Menlo,'DejaVu Sans Mono',consolas,'Courier New',monospace\">\n",
       "</pre>\n"
      ]
     },
     "metadata": {},
     "output_type": "display_data"
    },
    {
     "data": {
      "text/plain": [],
      "text/html": [
       "<pre style=\"white-space:pre;overflow-x:auto;line-height:normal;font-family:Menlo,'DejaVu Sans Mono',consolas,'Courier New',monospace\"></pre>\n"
      ]
     },
     "metadata": {},
     "output_type": "display_data"
    },
    {
     "data": {
      "text/plain": [
       "\n"
      ],
      "text/html": [
       "<pre style=\"white-space:pre;overflow-x:auto;line-height:normal;font-family:Menlo,'DejaVu Sans Mono',consolas,'Courier New',monospace\">\n",
       "</pre>\n"
      ]
     },
     "metadata": {},
     "output_type": "display_data"
    },
    {
     "name": "stderr",
     "output_type": "stream",
     "text": [
      "Sequential sampling (1 chains in 1 job)\n",
      "Metropolis: [theta]\n"
     ]
    },
    {
     "data": {
      "text/plain": [
       "Output()"
      ],
      "application/vnd.jupyter.widget-view+json": {
       "version_major": 2,
       "version_minor": 0,
       "model_id": "6252258bbde841149710acf13f75cb8b"
      }
     },
     "metadata": {},
     "output_type": "display_data"
    },
    {
     "data": {
      "text/plain": [],
      "text/html": [
       "<pre style=\"white-space:pre;overflow-x:auto;line-height:normal;font-family:Menlo,'DejaVu Sans Mono',consolas,'Courier New',monospace\"></pre>\n"
      ]
     },
     "metadata": {},
     "output_type": "display_data"
    },
    {
     "data": {
      "text/plain": [
       "\n"
      ],
      "text/html": [
       "<pre style=\"white-space:pre;overflow-x:auto;line-height:normal;font-family:Menlo,'DejaVu Sans Mono',consolas,'Courier New',monospace\">\n",
       "</pre>\n"
      ]
     },
     "metadata": {},
     "output_type": "display_data"
    },
    {
     "name": "stderr",
     "output_type": "stream",
     "text": [
      "Sampling 1 chain for 1_000 tune and 100_000 draw iterations (1_000 + 100_000 draws total) took 101 seconds.\n",
      "Only one chain was sampled, this makes it impossible to run some convergence checks\n"
     ]
    },
    {
     "data": {
      "text/plain": [
       "<Figure size 640x480 with 1 Axes>"
      ],
      "image/png": "[encoded data removed]"
     },
     "metadata": {},
     "output_type": "display_data"
    }
   ],
   "execution_count": 22
  }
 ],
 "metadata": {
  "kernelspec": {
   "display_name": "Python 3",
   "language": "python",
   "name": "python3"
  },
  "language_info": {
   "codemirror_mode": {
    "name": "ipython",
    "version": 2
   },
   "file_extension": ".py",
   "mimetype": "text/x-python",
   "name": "python",
   "nbconvert_exporter": "python",
   "pygments_lexer": "ipython2",
   "version": "2.7.6"
  }
 },
 "nbformat": 4,
 "nbformat_minor": 5
}
